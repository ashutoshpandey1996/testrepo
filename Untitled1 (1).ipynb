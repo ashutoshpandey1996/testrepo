{
 "cells": [
  {
   "cell_type": "code",
   "execution_count": 3,
   "metadata": {},
   "outputs": [
    {
     "name": "stdout",
     "output_type": "stream",
     "text": [
      "This is bold text looks like: \u001b[1mMy Jupyter Notebook\u001b[0m\n",
      "Ashutosh I am interested in data science because it can help me with my career in Artifical Intelligence\n"
     ]
    }
   ],
   "source": [
    "print(\"This is bold text looks like:\",'\\033[1m' + \"My Jupyter Notebook\" + '\\033[0m')\n",
    "\n",
    "print('Ashutosh I am interested in data science because it can help me with my career in Artifical Intelligence')\n"
   ]
  },
  {
   "cell_type": "code",
   "execution_count": 1,
   "metadata": {},
   "outputs": [
    {
     "name": "stdout",
     "output_type": "stream",
     "text": [
      "hello, data science\n",
      "welcome\n",
      "tools for data scienc\n"
     ]
    }
   ],
   "source": [
    " print(\"hello, data science\")\n",
    " print (\"welcome\")\n",
    "print(\"tools for data scienc\")\n",
    "    "
   ]
  },
  {
   "cell_type": "code",
   "execution_count": null,
   "metadata": {},
   "outputs": [],
   "source": []
  }
 ],
 "metadata": {
  "kernelspec": {
   "display_name": "Python 3",
   "language": "python",
   "name": "python3"
  },
  "language_info": {
   "codemirror_mode": {
    "name": "ipython",
    "version": 3
   },
   "file_extension": ".py",
   "mimetype": "text/x-python",
   "name": "python",
   "nbconvert_exporter": "python",
   "pygments_lexer": "ipython3",
   "version": "3.7.3"
  }
 },
 "nbformat": 4,
 "nbformat_minor": 2
}
